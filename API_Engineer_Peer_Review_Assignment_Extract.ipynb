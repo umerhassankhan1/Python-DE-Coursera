{
 "cells": [
  {
   "cell_type": "markdown",
   "metadata": {},
   "source": [
    "<p style=\"text-align:center\">\n",
    "    <a href=\"https://skills.network/?utm_medium=Exinfluencer&utm_source=Exinfluencer&utm_content=000026UJ&utm_term=10006555&utm_id=NA-SkillsNetwork-Channel-SkillsNetworkCoursesIBMDeveloperSkillsNetworkPY0221ENSkillsNetwork899-2023-01-01\">\n",
    "    <img src=\"https://cf-courses-data.s3.us.cloud-object-storage.appdomain.cloud/assets/logos/SN_web_lightmode.png\" width=\"200\" alt=\"Skills Network Logo\"  />\n",
    "    </a>\n",
    "</p>\n"
   ]
  },
  {
   "cell_type": "markdown",
   "metadata": {},
   "source": [
    "# Peer Review Assignment - Data Engineer - Extract API Data\n"
   ]
  },
  {
   "cell_type": "markdown",
   "metadata": {},
   "source": [
    "Estimated time needed: **20** minutes\n"
   ]
  },
  {
   "cell_type": "markdown",
   "metadata": {},
   "source": [
    "## Objectives\n",
    "\n",
    "In this part you will:\n",
    "\n",
    "-   Collect exchange rate data using an API\n",
    "-   Store the data as a CSV\n"
   ]
  },
  {
   "cell_type": "markdown",
   "metadata": {},
   "source": [
    "For this lab, we are going to be using Python and several Python libraries. Some of these libraries might be installed in your lab environment or in SN Labs. Others may need to be installed by you. The cells below will install these libraries when executed.\n"
   ]
  },
  {
   "cell_type": "code",
   "execution_count": null,
   "metadata": {},
   "outputs": [],
   "source": [
    "#!mamba install pandas==1.3.3 -y\n",
    "#!mamba install requests==2.26.0 -y"
   ]
  },
  {
   "cell_type": "markdown",
   "metadata": {},
   "source": [
    "## Imports\n",
    "\n",
    "Import any additional libraries you may need here.\n"
   ]
  },
  {
   "cell_type": "code",
   "execution_count": 1,
   "metadata": {
    "tags": []
   },
   "outputs": [],
   "source": [
    "import requests\n",
    "import pandas as pd"
   ]
  },
  {
   "cell_type": "markdown",
   "metadata": {},
   "source": [
    "## Extract Data Using an API\n"
   ]
  },
  {
   "cell_type": "markdown",
   "metadata": {},
   "source": [
    "Using ExchangeRate-API we will extract currency exchange rate data. Use the below steps to get the access key and to get the data. \n",
    "1. Open the url : https://exchangeratesapi.io/ and click on **Get Free API Key**. \n",
    "2. Subscribe for Free plan and Sign-in with the Google Account. \n",
    "3. Once the account is created you will be redirected to https://apilayer.com website.\n",
    "2. Now, click on the **user icon** and click **Account** as shown below:\n",
    "\n",
    "<img src=\"https://cf-courses-data.s3.us.cloud-object-storage.appdomain.cloud/IBMDeveloperSkillsNetwork-PY0221EN-SkillsNetwork/labs/module%206/Final%20Assignment/Images/account.png\">\n",
    "\n",
    "3. Scroll down and you will get the API Key section. Copy the API key and use in the url in Question 1.\n"
   ]
  },
  {
   "cell_type": "markdown",
   "metadata": {},
   "source": [
    "### Call the API\n",
    "\n",
    " <b> Question 1</b> Using the `requests` library call the endpoint given above and save the text, remember the first few characters of the output: \n"
   ]
  },
  {
   "cell_type": "code",
   "execution_count": 48,
   "metadata": {
    "tags": []
   },
   "outputs": [
    {
     "name": "stdout",
     "output_type": "stream",
     "text": [
      "{'success': True, 'timestamp': 1687697943, 'base': 'EUR', 'date': '2023-06-25', 'rates': {'AED': 4.014963, 'AFN': 93.254188, 'ALL': 107.488721, 'AMD': 420.038693, 'ANG': 1.957948, 'AOA': 868.4963, 'ARS': 275.463714, 'AUD': 1.636913, 'AWG': 1.967634, 'AZN': 1.862661, 'BAM': 1.955049, 'BBD': 2.193558, 'BDT': 117.524867, 'BGN': 1.962392, 'BHD': 0.410442, 'BIF': 3070.120983, 'BMD': 1.09313, 'BND': 1.469636, 'BOB': 7.507117, 'BRL': 5.228562, 'BSD': 1.086383, 'BTC': 3.5614684e-05, 'BTN': 89.0564, 'BWP': 14.592396, 'BYN': 2.742147, 'BYR': 21425.352035, 'BZD': 2.189859, 'CAD': 1.444408, 'CDF': 2601.650285, 'CHF': 0.980155, 'CLF': 0.031834, 'CLP': 874.034345, 'CNY': 7.84857, 'COP': 4454.18946, 'CRC': 587.974201, 'CUC': 1.09313, 'CUP': 28.96795, 'CVE': 110.227669, 'CZK': 23.730877, 'DJF': 193.425719, 'DKK': 7.472205, 'DOP': 59.877005, 'DZD': 147.767253, 'EGP': 33.640081, 'ERN': 16.396953, 'ETB': 59.247747, 'EUR': 1, 'FJD': 2.430302, 'FKP': 0.85979, 'GBP': 0.859785, 'GEL': 2.869511, 'GGP': 0.85979, 'GHS': 12.537185, 'GIP': 0.85979, 'GMD': 65.04546, 'GNF': 9340.413007, 'GTQ': 8.517729, 'GYD': 229.771761, 'HKD': 8.559155, 'HNL': 26.746728, 'HRK': 7.625799, 'HTG': 150.462218, 'HUF': 371.413274, 'IDR': 16446.471886, 'ILS': 3.966997, 'IMP': 0.85979, 'INR': 89.620831, 'IQD': 1423.153467, 'IRR': 46212.079838, 'ISK': 149.442252, 'JEP': 0.85979, 'JMD': 167.655615, 'JOD': 0.77558, 'JPY': 157.094163, 'KES': 151.221926, 'KGS': 95.428522, 'KHR': 4482.278673, 'KMF': 494.34085, 'KPW': 983.817185, 'KRW': 1430.541284, 'KWD': 0.33616, 'KYD': 0.905352, 'KZT': 487.172911, 'LAK': 20683.057098, 'LBP': 16306.637772, 'LKR': 334.621496, 'LRD': 194.522938, 'LSL': 20.496608, 'LTL': 3.22773, 'LVL': 0.661224, 'LYD': 5.203002, 'MAD': 10.820545, 'MDL': 19.515505, 'MGA': 4938.103623, 'MKD': 61.586349, 'MMK': 2281.423866, 'MNT': 3754.979031, 'MOP': 8.761535, 'MRO': 390.247295, 'MUR': 50.020791, 'MVR': 16.790894, 'MWK': 1105.475465, 'MXN': 18.761289, 'MYR': 5.112028, 'MZN': 69.140898, 'NAD': 20.496604, 'NGN': 899.646535, 'NIO': 39.734741, 'NOK': 11.832592, 'NPR': 142.49028, 'NZD': 1.779618, 'OMR': 0.419159, 'PAB': 1.086383, 'PEN': 3.942886, 'PGK': 3.919495, 'PHP': 60.958448, 'PKR': 311.248671, 'PLN': 4.453097, 'PYG': 7911.961574, 'QAR': 3.980129, 'RON': 4.973091, 'RSD': 117.196993, 'RUB': 92.506186, 'RWF': 1252.718919, 'SAR': 4.099536, 'SBD': 9.094891, 'SCR': 15.345107, 'SDG': 657.521839, 'SEK': 11.617312, 'SGD': 1.477749, 'SHP': 1.330067, 'SLE': 19.703584, 'SLL': 21589.321936, 'SOS': 621.448528, 'SRD': 41.572876, 'STD': 22625.58824, 'SVC': 9.50535, 'SYP': 2746.523961, 'SZL': 20.28521, 'THB': 38.533243, 'TJS': 11.863344, 'TMT': 3.825956, 'TND': 3.378907, 'TOP': 2.564706, 'TRY': 27.631384, 'TTD': 7.384164, 'TWD': 33.890867, 'TZS': 2601.900794, 'UAH': 40.121792, 'UGX': 3992.466775, 'USD': 1.09313, 'UYU': 41.044238, 'UZS': 12460.214911, 'VEF': 3002837.644491, 'VES': 29.805152, 'VND': 25715.888093, 'VUV': 128.453082, 'WST': 2.93299, 'XAF': 655.70519, 'XAG': 0.048788, 'XAU': 0.000569, 'XCD': 2.954239, 'XDR': 0.810189, 'XOF': 655.70519, 'XPF': 120.299377, 'YER': 273.665544, 'ZAR': 20.491032, 'ZMK': 9839.487532, 'ZMW': 18.495897, 'ZWL': 351.98748}}\n"
     ]
    }
   ],
   "source": [
    "# Write your code here\n",
    "url = \"http://api.exchangeratesapi.io/v1/latest?base=EUR&access_key=9e01484460e7431bc9d4e402ed676377\"  #Make sure to change ******* to your API key.\n",
    "data=requests.get(url).json()\n",
    "print(data)\n"
   ]
  },
  {
   "cell_type": "markdown",
   "metadata": {},
   "source": [
    "### Save as DataFrame\n",
    "\n",
    " <b> Question 2</b>  Using the data gathered turn it into a `pandas` dataframe. The dataframe should have the Currency as the index and `Rate` as their columns. Make sure to drop unnecessary columns.\n"
   ]
  },
  {
   "cell_type": "code",
   "execution_count": 49,
   "metadata": {
    "tags": []
   },
   "outputs": [
    {
     "data": {
      "text/html": [
       "<div>\n",
       "<style scoped>\n",
       "    .dataframe tbody tr th:only-of-type {\n",
       "        vertical-align: middle;\n",
       "    }\n",
       "\n",
       "    .dataframe tbody tr th {\n",
       "        vertical-align: top;\n",
       "    }\n",
       "\n",
       "    .dataframe thead th {\n",
       "        text-align: right;\n",
       "    }\n",
       "</style>\n",
       "<table border=\"1\" class=\"dataframe\">\n",
       "  <thead>\n",
       "    <tr style=\"text-align: right;\">\n",
       "      <th></th>\n",
       "      <th>success</th>\n",
       "      <th>timestamp</th>\n",
       "      <th>base</th>\n",
       "      <th>date</th>\n",
       "      <th>rates</th>\n",
       "    </tr>\n",
       "  </thead>\n",
       "  <tbody>\n",
       "    <tr>\n",
       "      <th>AED</th>\n",
       "      <td>True</td>\n",
       "      <td>1687697943</td>\n",
       "      <td>EUR</td>\n",
       "      <td>2023-06-25</td>\n",
       "      <td>4.014963</td>\n",
       "    </tr>\n",
       "    <tr>\n",
       "      <th>AFN</th>\n",
       "      <td>True</td>\n",
       "      <td>1687697943</td>\n",
       "      <td>EUR</td>\n",
       "      <td>2023-06-25</td>\n",
       "      <td>93.254188</td>\n",
       "    </tr>\n",
       "    <tr>\n",
       "      <th>ALL</th>\n",
       "      <td>True</td>\n",
       "      <td>1687697943</td>\n",
       "      <td>EUR</td>\n",
       "      <td>2023-06-25</td>\n",
       "      <td>107.488721</td>\n",
       "    </tr>\n",
       "    <tr>\n",
       "      <th>AMD</th>\n",
       "      <td>True</td>\n",
       "      <td>1687697943</td>\n",
       "      <td>EUR</td>\n",
       "      <td>2023-06-25</td>\n",
       "      <td>420.038693</td>\n",
       "    </tr>\n",
       "    <tr>\n",
       "      <th>ANG</th>\n",
       "      <td>True</td>\n",
       "      <td>1687697943</td>\n",
       "      <td>EUR</td>\n",
       "      <td>2023-06-25</td>\n",
       "      <td>1.957948</td>\n",
       "    </tr>\n",
       "  </tbody>\n",
       "</table>\n",
       "</div>"
      ],
      "text/plain": [
       "     success   timestamp base        date       rates\n",
       "AED     True  1687697943  EUR  2023-06-25    4.014963\n",
       "AFN     True  1687697943  EUR  2023-06-25   93.254188\n",
       "ALL     True  1687697943  EUR  2023-06-25  107.488721\n",
       "AMD     True  1687697943  EUR  2023-06-25  420.038693\n",
       "ANG     True  1687697943  EUR  2023-06-25    1.957948"
      ]
     },
     "execution_count": 49,
     "metadata": {},
     "output_type": "execute_result"
    }
   ],
   "source": [
    "# Turn the data into a dataframe\n",
    "data=pd.DataFrame(data)\n",
    "data.head()"
   ]
  },
  {
   "cell_type": "code",
   "execution_count": 50,
   "metadata": {
    "tags": []
   },
   "outputs": [
    {
     "data": {
      "text/html": [
       "<div>\n",
       "<style scoped>\n",
       "    .dataframe tbody tr th:only-of-type {\n",
       "        vertical-align: middle;\n",
       "    }\n",
       "\n",
       "    .dataframe tbody tr th {\n",
       "        vertical-align: top;\n",
       "    }\n",
       "\n",
       "    .dataframe thead th {\n",
       "        text-align: right;\n",
       "    }\n",
       "</style>\n",
       "<table border=\"1\" class=\"dataframe\">\n",
       "  <thead>\n",
       "    <tr style=\"text-align: right;\">\n",
       "      <th></th>\n",
       "      <th>rates</th>\n",
       "    </tr>\n",
       "  </thead>\n",
       "  <tbody>\n",
       "    <tr>\n",
       "      <th>AED</th>\n",
       "      <td>4.014963</td>\n",
       "    </tr>\n",
       "    <tr>\n",
       "      <th>AFN</th>\n",
       "      <td>93.254188</td>\n",
       "    </tr>\n",
       "    <tr>\n",
       "      <th>ALL</th>\n",
       "      <td>107.488721</td>\n",
       "    </tr>\n",
       "    <tr>\n",
       "      <th>AMD</th>\n",
       "      <td>420.038693</td>\n",
       "    </tr>\n",
       "    <tr>\n",
       "      <th>ANG</th>\n",
       "      <td>1.957948</td>\n",
       "    </tr>\n",
       "  </tbody>\n",
       "</table>\n",
       "</div>"
      ],
      "text/plain": [
       "          rates\n",
       "AED    4.014963\n",
       "AFN   93.254188\n",
       "ALL  107.488721\n",
       "AMD  420.038693\n",
       "ANG    1.957948"
      ]
     },
     "execution_count": 50,
     "metadata": {},
     "output_type": "execute_result"
    }
   ],
   "source": [
    "# Drop unnescessary columns\n",
    "data_transformed=data.drop(data.columns[0:4],axis=1)\n",
    "data_transformed.head()"
   ]
  },
  {
   "cell_type": "markdown",
   "metadata": {},
   "source": [
    "### Load the Data\n",
    "\n",
    "Using the dataframe save it as a CSV names `exchange_rates_1.csv`.\n"
   ]
  },
  {
   "cell_type": "code",
   "execution_count": 51,
   "metadata": {
    "tags": []
   },
   "outputs": [],
   "source": [
    "# Save the Dataframe\n",
    "data_transformed.to_csv('exchange_rates_1.csv')"
   ]
  },
  {
   "cell_type": "markdown",
   "metadata": {},
   "source": [
    "Your CSV should be in this format with more currencies\n",
    "\n",
    "| | Rates |\n",
    "| ------- | ------- |\n",
    "|  AED| 4.398618    |\n",
    "|  AFN| 92.917693   |  \n",
    "|  ALL| 123.099093  |\n",
    "|  AMD| 621.935674  |\n",
    "|  ANG| 2.149648    | \n"
   ]
  },
  {
   "cell_type": "markdown",
   "metadata": {},
   "source": [
    "## Authors\n"
   ]
  },
  {
   "cell_type": "markdown",
   "metadata": {},
   "source": [
    "Ramesh Sannareddy, Joseph Santarcangelo and Azim Hirjani\n"
   ]
  },
  {
   "cell_type": "markdown",
   "metadata": {},
   "source": [
    "### Other Contributors\n"
   ]
  },
  {
   "cell_type": "markdown",
   "metadata": {},
   "source": [
    "Rav Ahuja\n"
   ]
  },
  {
   "cell_type": "markdown",
   "metadata": {},
   "source": [
    "## Change Log\n"
   ]
  },
  {
   "cell_type": "markdown",
   "metadata": {},
   "source": [
    "| Date (YYYY-MM-DD) | Version | Changed By        | Change Description                 |\n",
    "| ----------------- | ------- | ----------------- | ---------------------------------- |\n",
    "| 2022-05-06        | 0.3     | Malika            | Updated instructions to get the API and the url|\n",
    "| 2021-04-15        | 0.2     | Malika            | Updated the lab from USD to EUR    |\n",
    "| 2020-11-25        | 0.1     | Ramesh Sannareddy | Created initial version of the lab |\n"
   ]
  },
  {
   "cell_type": "markdown",
   "metadata": {},
   "source": [
    " Copyright © 2020 IBM Corporation. This notebook and its source code are released under the terms of the [MIT License](https://cognitiveclass.ai/mit-license?utm_medium=Exinfluencer&utm_source=Exinfluencer&utm_content=000026UJ&utm_term=10006555&utm_id=NA-SkillsNetwork-Channel-SkillsNetworkCoursesIBMDeveloperSkillsNetworkPY0221ENSkillsNetwork899-2023-01-01&cm_mmc=Email_Newsletter-_-Developer_Ed%2BTech-_-WW_WW-_-SkillsNetwork-Courses-IBM-DA0321EN-SkillsNetwork-21426264&cm_mmca1=000026UJ&cm_mmca2=10006555&cm_mmca3=M12345678&cvosrc=email.Newsletter.M12345678&cvo_campaign=000026UJ).\n"
   ]
  }
 ],
 "metadata": {
  "kernelspec": {
   "display_name": "Python",
   "language": "python",
   "name": "conda-env-python-py"
  },
  "language_info": {
   "codemirror_mode": {
    "name": "ipython",
    "version": 3
   },
   "file_extension": ".py",
   "mimetype": "text/x-python",
   "name": "python",
   "nbconvert_exporter": "python",
   "pygments_lexer": "ipython3",
   "version": "3.7.12"
  }
 },
 "nbformat": 4,
 "nbformat_minor": 4
}
